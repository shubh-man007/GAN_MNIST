{
 "cells": [
  {
   "cell_type": "code",
   "execution_count": 1,
   "id": "1d5df8f4",
   "metadata": {},
   "outputs": [],
   "source": [
    "import torch\n",
    "import torch.nn as nn\n",
    "import torch.optim as optim\n",
    "import torchvision\n",
    "import torchvision.datasets as datasets\n",
    "from torch.utils.data import DataLoader\n",
    "import torchvision.transforms as transforms\n",
    "from torch.utils.tensorboard import SummaryWriter"
   ]
  },
  {
   "cell_type": "code",
   "execution_count": 2,
   "id": "a4c8a3d5",
   "metadata": {},
   "outputs": [
    {
     "name": "stdout",
     "output_type": "stream",
     "text": [
      "Requirement already satisfied: tensorboard in c:\\users\\deshu\\anaconda3\\lib\\site-packages (2.17.1)Note: you may need to restart the kernel to use updated packages.\n",
      "\n",
      "Requirement already satisfied: absl-py>=0.4 in c:\\users\\deshu\\anaconda3\\lib\\site-packages (from tensorboard) (2.1.0)\n",
      "Requirement already satisfied: grpcio>=1.48.2 in c:\\users\\deshu\\anaconda3\\lib\\site-packages (from tensorboard) (1.66.1)\n",
      "Requirement already satisfied: markdown>=2.6.8 in c:\\users\\deshu\\anaconda3\\lib\\site-packages (from tensorboard) (3.4.1)\n",
      "Requirement already satisfied: numpy>=1.12.0 in c:\\users\\deshu\\anaconda3\\lib\\site-packages (from tensorboard) (1.24.3)\n",
      "Requirement already satisfied: packaging in c:\\users\\deshu\\anaconda3\\lib\\site-packages (from tensorboard) (23.1)\n",
      "Requirement already satisfied: protobuf!=4.24.0,>=3.19.6 in c:\\users\\deshu\\anaconda3\\lib\\site-packages (from tensorboard) (5.28.0)\n",
      "Requirement already satisfied: setuptools>=41.0.0 in c:\\users\\deshu\\anaconda3\\lib\\site-packages (from tensorboard) (68.0.0)\n",
      "Requirement already satisfied: six>1.9 in c:\\users\\deshu\\anaconda3\\lib\\site-packages (from tensorboard) (1.16.0)\n",
      "Requirement already satisfied: tensorboard-data-server<0.8.0,>=0.7.0 in c:\\users\\deshu\\anaconda3\\lib\\site-packages (from tensorboard) (0.7.2)\n",
      "Requirement already satisfied: werkzeug>=1.0.1 in c:\\users\\deshu\\anaconda3\\lib\\site-packages (from tensorboard) (2.2.3)\n",
      "Requirement already satisfied: MarkupSafe>=2.1.1 in c:\\users\\deshu\\anaconda3\\lib\\site-packages (from werkzeug>=1.0.1->tensorboard) (2.1.1)\n"
     ]
    }
   ],
   "source": [
    "pip install tensorboard"
   ]
  },
  {
   "cell_type": "code",
   "execution_count": null,
   "id": "0e047990",
   "metadata": {},
   "outputs": [],
   "source": [
    "!tensorboard --logdir=runs"
   ]
  },
  {
   "cell_type": "code",
   "execution_count": 4,
   "id": "ca03c4f8",
   "metadata": {},
   "outputs": [],
   "source": [
    "class Discriminator(nn.Module):\n",
    "  def __init__(self, img_dim):\n",
    "    super().__init__()\n",
    "    self.disc = nn.Sequential(\n",
    "        nn.Linear(img_dim,128),\n",
    "        nn.LeakyReLU(0.1),\n",
    "        nn.Linear(128,1),\n",
    "        nn.Sigmoid(),\n",
    "    )\n",
    "\n",
    "  def forward(self,x):\n",
    "    return self.disc(x)"
   ]
  },
  {
   "cell_type": "code",
   "execution_count": 5,
   "id": "6abfcbfa",
   "metadata": {},
   "outputs": [],
   "source": [
    "class Generator(nn.Module):\n",
    "  def __init__(self, z_dim, img_dim):\n",
    "    super().__init__()\n",
    "    self.gen = nn.Sequential(\n",
    "        nn.Linear(z_dim, 256),\n",
    "        nn.LeakyReLU(0.1),\n",
    "        nn.Linear(256, img_dim),\n",
    "        nn.Tanh(),\n",
    "    )\n",
    "\n",
    "  def forward(self,x):\n",
    "    return self.gen(x)"
   ]
  },
  {
   "cell_type": "code",
   "execution_count": 6,
   "id": "ae7d2aad",
   "metadata": {},
   "outputs": [],
   "source": [
    "device = \"cuda\" if torch.cuda.is_available() else \"cpu\""
   ]
  },
  {
   "cell_type": "code",
   "execution_count": 7,
   "id": "0dc02886",
   "metadata": {},
   "outputs": [],
   "source": [
    "lr = 3e-4\n",
    "z_dim = 64\n",
    "image_dim = 28 * 28 * 1\n",
    "batch_size = 32\n",
    "num_epochs = 50\n",
    "\n",
    "disc = Discriminator(image_dim).to(device)\n",
    "gen = Generator(z_dim, image_dim).to(device)\n",
    "fixed_noise = torch.randn((batch_size, z_dim)).to(device)\n",
    "transforms = transforms.Compose(\n",
    "    [transforms.ToTensor(), transforms.Normalize((0.5,), (0.5,))]\n",
    ")\n",
    "dataset = datasets.MNIST(root = \"dataset/\",transform = transforms, download = True)\n",
    "loader = DataLoader(dataset, batch_size = batch_size, shuffle = True)\n",
    "opt_disc = optim.Adam(disc.parameters(), lr = lr)\n",
    "opt_gen = optim.Adam(gen.parameters(), lr=lr)\n",
    "criterion = nn.BCELoss()\n",
    "writer_fake = SummaryWriter(f\"runs/GAN_MNIST/fake\")\n",
    "writer_real = SummaryWriter(f\"runs/GAN_MNIST/real\")\n",
    "step = 0"
   ]
  },
  {
   "cell_type": "code",
   "execution_count": null,
   "id": "b2c673cc",
   "metadata": {
    "scrolled": false
   },
   "outputs": [
    {
     "name": "stdout",
     "output_type": "stream",
     "text": [
      "Epoch [0/50] Batch 0/1875                       Loss D: 0.8203, loss G: 0.7197\n",
      "Epoch [1/50] Batch 0/1875                       Loss D: 0.8522, loss G: 0.6408\n",
      "Epoch [2/50] Batch 0/1875                       Loss D: 0.8468, loss G: 0.6574\n",
      "Epoch [3/50] Batch 0/1875                       Loss D: 0.6756, loss G: 0.7401\n"
     ]
    }
   ],
   "source": [
    "for epoch in range(num_epochs):\n",
    "  for batch_idx, (real,_) in enumerate(loader):\n",
    "    real = real.view(-1,784).to(device)\n",
    "    batch_size = real.shape[0]\n",
    "\n",
    "    noise = torch.randn(batch_size, z_dim).to(device)\n",
    "    fake = gen(noise)\n",
    "    disc_real = disc(real).view(-1)\n",
    "    lossD_real = criterion(disc_real, torch.ones_like(disc_real))\n",
    "    disc_fake = disc(fake.detach()).view(-1)\n",
    "    lossD_fake = criterion(disc_fake, torch.zeros_like(disc_fake))\n",
    "    lossD = (lossD_real + lossD_fake) / 2\n",
    "    disc.zero_grad()\n",
    "    lossD.backward()\n",
    "    opt_disc.step()\n",
    "\n",
    "\n",
    "    output = disc(fake).view(-1)\n",
    "    lossG = criterion(output, torch.ones_like(output))\n",
    "    gen.zero_grad()\n",
    "    lossG.backward()\n",
    "    opt_gen.step()\n",
    "\n",
    "    if batch_idx == 0:\n",
    "            print(\n",
    "                f\"Epoch [{epoch}/{num_epochs}] Batch {batch_idx}/{len(loader)} \\\n",
    "                      Loss D: {lossD:.4f}, loss G: {lossG:.4f}\"\n",
    "            )\n",
    "\n",
    "            with torch.no_grad():\n",
    "                fake = gen(fixed_noise).reshape(-1, 1, 28, 28)\n",
    "                data = real.reshape(-1, 1, 28, 28)\n",
    "                img_grid_fake = torchvision.utils.make_grid(fake, normalize=True)\n",
    "                img_grid_real = torchvision.utils.make_grid(data, normalize=True)\n",
    "\n",
    "                writer_fake.add_image(\n",
    "                    \"Mnist Fake Images\", img_grid_fake, global_step=step\n",
    "                )\n",
    "                writer_real.add_image(\n",
    "                    \"Mnist Real Images\", img_grid_real, global_step=step\n",
    "                )\n",
    "                step += 1"
   ]
  },
  {
   "cell_type": "code",
   "execution_count": null,
   "id": "da7a868d",
   "metadata": {},
   "outputs": [],
   "source": []
  }
 ],
 "metadata": {
  "kernelspec": {
   "display_name": "Python 3",
   "language": "python",
   "name": "python3"
  },
  "language_info": {
   "codemirror_mode": {
    "name": "ipython",
    "version": 3
   },
   "file_extension": ".py",
   "mimetype": "text/x-python",
   "name": "python",
   "nbconvert_exporter": "python",
   "pygments_lexer": "ipython3",
   "version": "3.12.2"
  }
 },
 "nbformat": 4,
 "nbformat_minor": 5
}
